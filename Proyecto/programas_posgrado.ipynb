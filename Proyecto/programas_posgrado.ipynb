{
 "cells": [
  {
   "cell_type": "code",
   "execution_count": 1,
   "metadata": {},
   "outputs": [],
   "source": [
    "from time import sleep\n",
    "from selenium import webdriver\n",
    "from selenium.webdriver.common.by import By\n",
    "from selenium.webdriver.support import expected_conditions as EC\n",
    "from selenium.webdriver.support.ui import WebDriverWait\n",
    "import warnings\n",
    "import pandas as pd\n",
    "warnings.filterwarnings('ignore')"
   ]
  },
  {
   "cell_type": "code",
   "execution_count": 2,
   "metadata": {},
   "outputs": [],
   "source": [
    "driver = webdriver.Chrome(\"chromedriver.exe\")\n",
    "driver.get(\"https://tecnologicocomfenalco.edu.co/oferta-posgrados\")"
   ]
  },
  {
   "cell_type": "code",
   "execution_count": 3,
   "metadata": {},
   "outputs": [],
   "source": [
    "links = []\n",
    "driver.execute_script(\"scroll(0, 1300)\")\n",
    "programas = driver.find_elements(By.XPATH, \"//div[@class ='gdlr-core-portfolio-content-wrap gdlr-core-skin-divider']//a\")\n",
    "\n",
    "for programa in programas:\n",
    "    links.append(programa.get_attribute(\"href\"))\n",
    "    "
   ]
  },
  {
   "cell_type": "code",
   "execution_count": 4,
   "metadata": {},
   "outputs": [],
   "source": [
    "df = pd.DataFrame({\"programas\": links})"
   ]
  },
  {
   "cell_type": "code",
   "execution_count": 5,
   "metadata": {},
   "outputs": [
    {
     "data": {
      "text/plain": [
       "0    https://tecnologicocomfenalco.edu.co/especiali...\n",
       "1    https://tecnologicocomfenalco.edu.co/especiali...\n",
       "2    https://tecnologicocomfenalco.edu.co/especiali...\n",
       "3    https://tecnologicocomfenalco.edu.co/especiali...\n",
       "4    https://tecnologicocomfenalco.edu.co/especiali...\n",
       "5    https://tecnologicocomfenalco.edu.co/especiali...\n",
       "6    https://tecnologicocomfenalco.edu.co/especiali...\n",
       "7    https://tecnologicocomfenalco.edu.co/especiali...\n",
       "8    https://tecnologicocomfenalco.edu.co/maestria-...\n",
       "9    https://tecnologicocomfenalco.edu.co/maestria-...\n",
       "Name: programas, dtype: object"
      ]
     },
     "execution_count": 5,
     "metadata": {},
     "output_type": "execute_result"
    }
   ],
   "source": [
    "df.programas"
   ]
  },
  {
   "cell_type": "code",
   "execution_count": 6,
   "metadata": {},
   "outputs": [],
   "source": [
    "df[\"programas\"] = df[\"programas\"].str.split(\"/\").apply(lambda x: x[-1])"
   ]
  },
  {
   "cell_type": "code",
   "execution_count": 11,
   "metadata": {},
   "outputs": [],
   "source": [
    "df[\"programas\"] = df[\"programas\"].str.replace(\"-\", \" \").str.strip()"
   ]
  },
  {
   "cell_type": "code",
   "execution_count": 14,
   "metadata": {},
   "outputs": [
    {
     "data": {
      "text/plain": [
       "array(['especializacion en finanzas',\n",
       "       'especializacion en gestion tributaria',\n",
       "       'especializacion en gerencia de proyectos',\n",
       "       'especializacion en gerencia estrategica de marketing',\n",
       "       'especializacion en gestion estrategica del talento humano',\n",
       "       'especializacion en logistica y distribucion fisica internacional',\n",
       "       'especializacion psicologia social aplicada',\n",
       "       'especializacion en gestion integral en hseq',\n",
       "       'maestria en sistemas de gestion',\n",
       "       'maestria en tecnologias de la informacion y la comunicacion'],\n",
       "      dtype=object)"
      ]
     },
     "execution_count": 14,
     "metadata": {},
     "output_type": "execute_result"
    }
   ],
   "source": [
    "df[\"programas\"].values"
   ]
  }
 ],
 "metadata": {
  "interpreter": {
   "hash": "e885cd74143ad494932267455ab53278514454996393c47fe6c2589217b9edf3"
  },
  "kernelspec": {
   "display_name": "Python 3.9.2 64-bit",
   "language": "python",
   "name": "python3"
  },
  "language_info": {
   "codemirror_mode": {
    "name": "ipython",
    "version": 3
   },
   "file_extension": ".py",
   "mimetype": "text/x-python",
   "name": "python",
   "nbconvert_exporter": "python",
   "pygments_lexer": "ipython3",
   "version": "3.9.2"
  },
  "orig_nbformat": 4
 },
 "nbformat": 4,
 "nbformat_minor": 2
}
