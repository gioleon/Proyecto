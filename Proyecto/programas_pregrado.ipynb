{
 "cells": [
  {
   "cell_type": "code",
   "execution_count": 4,
   "metadata": {},
   "outputs": [],
   "source": [
    "from time import sleep\n",
    "from selenium import webdriver\n",
    "from selenium.webdriver.common.by import By\n",
    "from selenium.webdriver.support import expected_conditions as EC\n",
    "from selenium.webdriver.support.ui import WebDriverWait\n",
    "import warnings\n",
    "import pandas as pd\n",
    "warnings.filterwarnings('ignore')"
   ]
  },
  {
   "cell_type": "code",
   "execution_count": 5,
   "metadata": {},
   "outputs": [],
   "source": [
    "driver = webdriver.Chrome(\"chromedriver.exe\")\n",
    "driver.get(\"https://tecnologicocomfenalco.edu.co/pregrado/\")"
   ]
  },
  {
   "cell_type": "code",
   "execution_count": 6,
   "metadata": {},
   "outputs": [
    {
     "ename": "TypeError",
     "evalue": "list indices must be integers or slices, not str",
     "output_type": "error",
     "traceback": [
      "\u001b[1;31m---------------------------------------------------------------------------\u001b[0m",
      "\u001b[1;31mTypeError\u001b[0m                                 Traceback (most recent call last)",
      "\u001b[1;32m~\\AppData\\Local\\Temp/ipykernel_7156/3108980790.py\u001b[0m in \u001b[0;36m<module>\u001b[1;34m\u001b[0m\n\u001b[0;32m     17\u001b[0m \u001b[1;33m\u001b[0m\u001b[0m\n\u001b[0;32m     18\u001b[0m     \u001b[1;32mfor\u001b[0m \u001b[0mprograma\u001b[0m \u001b[1;32min\u001b[0m \u001b[0mprogramas\u001b[0m\u001b[1;33m:\u001b[0m\u001b[1;33m\u001b[0m\u001b[1;33m\u001b[0m\u001b[0m\n\u001b[1;32m---> 19\u001b[1;33m         \u001b[0mprogramas\u001b[0m\u001b[1;33m[\u001b[0m\u001b[0mfacultades\u001b[0m\u001b[1;33m[\u001b[0m\u001b[0mi\u001b[0m\u001b[1;33m]\u001b[0m\u001b[1;33m]\u001b[0m\u001b[1;33m.\u001b[0m\u001b[0mappend\u001b[0m\u001b[1;33m(\u001b[0m\u001b[0mprograma\u001b[0m\u001b[1;33m.\u001b[0m\u001b[0mget_attribute\u001b[0m\u001b[1;33m(\u001b[0m\u001b[1;34m\"href\"\u001b[0m\u001b[1;33m)\u001b[0m\u001b[1;33m)\u001b[0m\u001b[1;33m\u001b[0m\u001b[1;33m\u001b[0m\u001b[0m\n\u001b[0m\u001b[0;32m     20\u001b[0m \u001b[1;33m\u001b[0m\u001b[0m\n\u001b[0;32m     21\u001b[0m     \u001b[0mboton\u001b[0m\u001b[1;33m.\u001b[0m\u001b[0mclick\u001b[0m\u001b[1;33m(\u001b[0m\u001b[1;33m)\u001b[0m\u001b[1;33m\u001b[0m\u001b[1;33m\u001b[0m\u001b[0m\n",
      "\u001b[1;31mTypeError\u001b[0m: list indices must be integers or slices, not str"
     ]
    }
   ],
   "source": [
    "facultades = [\"ciencias economicas, administrativa y contable\", \"ciencias sociales y humanas\", \"ingenieria\"]\n",
    "\n",
    "programas_dict = {\n",
    "    \"ciencias economicas, administrativa y contable\": [],\n",
    "    \"ciencias sociales y humanas\":[],\n",
    "    \"ingenieria\": []\n",
    "}\n",
    "\n",
    "\n",
    "\n",
    "driver.execute_script(\"scroll(0, 700)\")\n",
    "botones = driver.find_elements(By.XPATH, \"//a[@data-ajax-name='category']\")\n",
    "for i in range(0, 3):\n",
    "    \n",
    "    boton = botones[i]\n",
    "    programas = driver.find_elements(By.XPATH, \"//div[@class ='gdlr-core-portfolio-content-wrap gdlr-core-skin-divider']//a\")\n",
    "\n",
    "    for programa in programas:\n",
    "        programas_dict[facultades[i]].append(programa.get_attribute(\"href\"))\n",
    "    \n",
    "    boton.click()\n",
    "    sleep(2)\n",
    "    "
   ]
  },
  {
   "cell_type": "code",
   "execution_count": 59,
   "metadata": {},
   "outputs": [],
   "source": [
    "df = pd.DataFrame({\"programas\": links})"
   ]
  },
  {
   "cell_type": "code",
   "execution_count": 63,
   "metadata": {},
   "outputs": [],
   "source": [
    "df[\"programas\"] = df[\"programas\"].str.split(\"/\").apply(lambda x: x[-1])"
   ]
  },
  {
   "cell_type": "code",
   "execution_count": 75,
   "metadata": {},
   "outputs": [],
   "source": [
    "df.loc[22:26, \"programas\"] = df[\"programas\"][df[\"programas\"].str.contains(\"plan-de-estudio\")].str.replace(\"plan-de-estudio\", \"\")"
   ]
  },
  {
   "cell_type": "code",
   "execution_count": 83,
   "metadata": {},
   "outputs": [],
   "source": [
    "df[\"programas\"] = df[\"programas\"].str.replace(\"-\", \" \").str.strip()"
   ]
  },
  {
   "cell_type": "code",
   "execution_count": 89,
   "metadata": {},
   "outputs": [
    {
     "data": {
      "text/plain": [
       "array(['tecnologia en gestion de marketing',\n",
       "       'administracion en seguridad y salud en el trabajo',\n",
       "       'ingenieria civil', 'tecnologia en produccion industrial',\n",
       "       'tecnologia en seguridad e higiene ocupacional',\n",
       "       'tecnologia en control de calidad',\n",
       "       'tecnologia en gestion ambiental industrial',\n",
       "       'tecnologia en operacion de plantas y procesos industriales',\n",
       "       'tecnologia en instrumentacion industrial',\n",
       "       'tecnologia en control electronico de procesos',\n",
       "       'tecnologia en desarrollo de software',\n",
       "       'tecnologia en redes de comunicaciones y servicios convergentes',\n",
       "       'ingenieria industrial', 'derecho', 'psicologia', 'trabajo social',\n",
       "       'tecnologia en gestion turistica y hotelera',\n",
       "       'tecnologia en gestion logistica',\n",
       "       'tecnologia en gestion de negocios internacionales',\n",
       "       'tecnologia en gestion financiera',\n",
       "       'tecnologia en contabilidad sistematizada', 'contaduria publica',\n",
       "       'ingenieria de procesos', 'ingenieria de sistemas',\n",
       "       'administracion de empresas', 'ingenieria electronica',\n",
       "       'ingenieria ambiental'], dtype=object)"
      ]
     },
     "execution_count": 89,
     "metadata": {},
     "output_type": "execute_result"
    }
   ],
   "source": [
    "df[\"programas\"].values"
   ]
  },
  {
   "cell_type": "code",
   "execution_count": 3,
   "metadata": {},
   "outputs": [
    {
     "data": {
      "text/plain": [
       "[2]"
      ]
     },
     "execution_count": 3,
     "metadata": {},
     "output_type": "execute_result"
    }
   ],
   "source": [
    "programas = {\n",
    "    \"ciencias economicas, administrativa y contable\": [],\n",
    "    \"ciencias sociales y humanas\":[],\n",
    "    \"ingenieria\": []\n",
    "}\n",
    "\n",
    "programas[\"ingenieria\"].append(2)\n",
    "programas[\"ingenieria\"]"
   ]
  }
 ],
 "metadata": {
  "interpreter": {
   "hash": "e885cd74143ad494932267455ab53278514454996393c47fe6c2589217b9edf3"
  },
  "kernelspec": {
   "display_name": "Python 3.9.2 64-bit",
   "language": "python",
   "name": "python3"
  },
  "language_info": {
   "codemirror_mode": {
    "name": "ipython",
    "version": 3
   },
   "file_extension": ".py",
   "mimetype": "text/x-python",
   "name": "python",
   "nbconvert_exporter": "python",
   "pygments_lexer": "ipython3",
   "version": "3.9.2"
  },
  "orig_nbformat": 4
 },
 "nbformat": 4,
 "nbformat_minor": 2
}
